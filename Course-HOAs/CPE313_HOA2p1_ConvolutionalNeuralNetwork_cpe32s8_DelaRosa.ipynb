{
  "cells": [
    {
      "cell_type": "markdown",
      "metadata": {
        "id": "view-in-github",
        "colab_type": "text"
      },
      "source": [
        "<a href=\"https://colab.research.google.com/github/jepowo/CPE_313/blob/main/CPE313_HOA2p1_ConvolutionalNeuralNetwork_cpe32s8_DelaRosa.ipynb\" target=\"_parent\"><img src=\"https://colab.research.google.com/assets/colab-badge.svg\" alt=\"Open In Colab\"/></a>"
      ]
    },
    {
      "cell_type": "markdown",
      "metadata": {
        "id": "historic-trainer"
      },
      "source": [
        "# Activity 2.1 : Convolutional Neural Network"
      ],
      "id": "historic-trainer"
    },
    {
      "cell_type": "markdown",
      "metadata": {
        "id": "olive-manner"
      },
      "source": [
        "#### Objective(s):\n",
        "\n",
        "This activity aims to introduce how to build a convolutional neural network"
      ],
      "id": "olive-manner"
    },
    {
      "cell_type": "markdown",
      "metadata": {
        "id": "happy-transport"
      },
      "source": [
        "#### Intended Learning Outcomes (ILOs):\n",
        "* Demonstrate how to build and train convolutional neural network\n",
        "* Evaluate the accuracy and loss of the model using convolutional neural network"
      ],
      "id": "happy-transport"
    },
    {
      "cell_type": "markdown",
      "metadata": {
        "id": "leading-providence"
      },
      "source": [
        "#### Resources:\n",
        "* Jupyter Notebook\n",
        "* CIFAR-10 dataset"
      ],
      "id": "leading-providence"
    },
    {
      "cell_type": "markdown",
      "metadata": {
        "id": "literary-trail"
      },
      "source": [
        "### Procedures\n",
        "Load the necessary libraries"
      ],
      "id": "literary-trail"
    },
    {
      "cell_type": "code",
      "execution_count": 2,
      "metadata": {
        "id": "stretch-active"
      },
      "outputs": [],
      "source": [
        "from __future__ import print_function\n",
        "import keras\n",
        "from keras.datasets import cifar10\n",
        "from keras.preprocessing.image import ImageDataGenerator\n",
        "from keras.models import Sequential\n",
        "from keras.layers import Dense, Dropout, Activation, Flatten\n",
        "from keras.layers import Conv2D, MaxPooling2D\n",
        "\n",
        "import matplotlib.pyplot as plt\n",
        "%matplotlib inline"
      ],
      "id": "stretch-active"
    },
    {
      "cell_type": "markdown",
      "metadata": {
        "id": "collaborative-seating"
      },
      "source": [
        "\n",
        "\n",
        "---\n",
        "\n",
        "\n",
        "* Shuffle the data\n",
        "* Split the data into train and test sets"
      ],
      "id": "collaborative-seating"
    },
    {
      "cell_type": "code",
      "execution_count": 4,
      "metadata": {
        "colab": {
          "base_uri": "https://localhost:8080/"
        },
        "id": "modular-springer",
        "outputId": "0d98fe88-fe79-4a0c-ec33-d799d4972aec"
      },
      "outputs": [
        {
          "output_type": "stream",
          "name": "stdout",
          "text": [
            "Downloading data from https://www.cs.toronto.edu/~kriz/cifar-10-python.tar.gz\n",
            "170498071/170498071 [==============================] - 2s 0us/step\n",
            "x_train shape: (50000, 32, 32, 3)\n",
            "50000 train samples\n",
            "10000 test samples\n"
          ]
        }
      ],
      "source": [
        "(x_train, y_train), (x_test, y_test) = cifar10.load_data()\n",
        "print('x_train shape:', x_train.shape)\n",
        "print(x_train.shape[0], 'train samples')\n",
        "print(x_test.shape[0], 'test samples')"
      ],
      "id": "modular-springer"
    },
    {
      "cell_type": "markdown",
      "metadata": {
        "id": "female-carolina"
      },
      "source": [
        "\n",
        "\n",
        "---\n",
        "\n",
        "\n",
        "Check the image size"
      ],
      "id": "female-carolina"
    },
    {
      "cell_type": "code",
      "execution_count": 5,
      "metadata": {
        "colab": {
          "base_uri": "https://localhost:8080/"
        },
        "id": "alleged-stephen",
        "outputId": "8fb8fbe1-ad41-4b79-d54d-9bc547cb63f3"
      },
      "outputs": [
        {
          "output_type": "execute_result",
          "data": {
            "text/plain": [
              "(32, 32, 3)"
            ]
          },
          "metadata": {},
          "execution_count": 5
        }
      ],
      "source": [
        "x_train[444].shape"
      ],
      "id": "alleged-stephen"
    },
    {
      "cell_type": "markdown",
      "metadata": {
        "id": "conscious-twenty"
      },
      "source": [
        "\n",
        "\n",
        "---\n",
        "\n",
        "\n",
        "Visualize one of the images"
      ],
      "id": "conscious-twenty"
    },
    {
      "cell_type": "code",
      "execution_count": null,
      "metadata": {
        "colab": {
          "base_uri": "https://localhost:8080/",
          "height": 447
        },
        "id": "positive-creation",
        "outputId": "bf64719c-19fa-4962-80b5-eec6c09a5ef8"
      },
      "outputs": [
        {
          "name": "stdout",
          "output_type": "stream",
          "text": [
            "[9]\n"
          ]
        },
        {
          "data": {
            "image/png": "[encoded data removed]",
            "text/plain": [
              "<Figure size 640x480 with 1 Axes>"
            ]
          },
          "metadata": {},
          "output_type": "display_data"
        }
      ],
      "source": [
        "print(y_train[444])\n",
        "plt.imshow(x_train[444]);"
      ],
      "id": "positive-creation"
    },
    {
      "cell_type": "code",
      "execution_count": 6,
      "metadata": {
        "id": "animated-rotation"
      },
      "outputs": [],
      "source": [
        "num_classes = 10\n",
        "\n",
        "y_train = keras.utils.to_categorical(y_train, num_classes)\n",
        "y_test = keras.utils.to_categorical(y_test, num_classes)"
      ],
      "id": "animated-rotation"
    },
    {
      "cell_type": "markdown",
      "metadata": {
        "id": "severe-filing"
      },
      "source": [
        "\n",
        "\n",
        "---\n",
        "\n",
        "\n",
        "Instead of classes described by an integer between 0-9 we have a vector with a 1 in the (Pythonic) 9th position"
      ],
      "id": "severe-filing"
    },
    {
      "cell_type": "code",
      "execution_count": 7,
      "metadata": {
        "colab": {
          "base_uri": "https://localhost:8080/"
        },
        "id": "genetic-centre",
        "outputId": "2a110873-2189-40e2-d945-b683fe3fb08e"
      },
      "outputs": [
        {
          "output_type": "execute_result",
          "data": {
            "text/plain": [
              "array([0., 0., 0., 0., 0., 0., 0., 0., 0., 1.], dtype=float32)"
            ]
          },
          "metadata": {},
          "execution_count": 7
        }
      ],
      "source": [
        "y_train[444]"
      ],
      "id": "genetic-centre"
    },
    {
      "cell_type": "markdown",
      "metadata": {
        "id": "detected-education"
      },
      "source": [
        "\n",
        "\n",
        "---\n",
        "\n",
        "\n",
        "Convert to float and scale the datasets"
      ],
      "id": "detected-education"
    },
    {
      "cell_type": "code",
      "execution_count": 8,
      "metadata": {
        "id": "familiar-damages"
      },
      "outputs": [],
      "source": [
        "x_train = x_train.astype('float32')\n",
        "x_test = x_test.astype('float32')\n",
        "x_train /= 255\n",
        "x_test /= 255"
      ],
      "id": "familiar-damages"
    },
    {
      "cell_type": "markdown",
      "metadata": {
        "id": "bizarre-smith"
      },
      "source": [
        "\n",
        "\n",
        "---\n",
        "\n",
        "\n",
        "Build a CNN using Keras Sequential"
      ],
      "id": "bizarre-smith"
    },
    {
      "cell_type": "code",
      "execution_count": null,
      "metadata": {
        "colab": {
          "base_uri": "https://localhost:8080/"
        },
        "id": "understanding-milan",
        "outputId": "564e41c9-e985-418e-bcef-2e2a8868d939"
      },
      "outputs": [
        {
          "name": "stdout",
          "output_type": "stream",
          "text": [
            "Model: \"sequential\"\n",
            "_________________________________________________________________\n",
            " Layer (type)                Output Shape              Param #   \n",
            "=================================================================\n",
            " conv2d (Conv2D)             (None, 16, 16, 32)        2432      \n",
            "                                                                 \n",
            " activation (Activation)     (None, 16, 16, 32)        0         \n",
            "                                                                 \n",
            " conv2d_1 (Conv2D)           (None, 6, 6, 32)          25632     \n",
            "                                                                 \n",
            " activation_1 (Activation)   (None, 6, 6, 32)          0         \n",
            "                                                                 \n",
            " max_pooling2d (MaxPooling2  (None, 3, 3, 32)          0         \n",
            " D)                                                              \n",
            "                                                                 \n",
            " dropout (Dropout)           (None, 3, 3, 32)          0         \n",
            "                                                                 \n",
            " flatten (Flatten)           (None, 288)               0         \n",
            "                                                                 \n",
            " dense (Dense)               (None, 512)               147968    \n",
            "                                                                 \n",
            " activation_2 (Activation)   (None, 512)               0         \n",
            "                                                                 \n",
            " dropout_1 (Dropout)         (None, 512)               0         \n",
            "                                                                 \n",
            " dense_1 (Dense)             (None, 10)                5130      \n",
            "                                                                 \n",
            " activation_3 (Activation)   (None, 10)                0         \n",
            "                                                                 \n",
            "=================================================================\n",
            "Total params: 181162 (707.66 KB)\n",
            "Trainable params: 181162 (707.66 KB)\n",
            "Non-trainable params: 0 (0.00 Byte)\n",
            "_________________________________________________________________\n"
          ]
        }
      ],
      "source": [
        "\n",
        "model_1 = Sequential()\n",
        "\n",
        "\n",
        "## 5x5 convolution with 2x2 stride and 32 filters\n",
        "model_1.add(Conv2D(32, (5, 5), strides = (2,2), padding='same',\n",
        "                 input_shape=x_train.shape[1:]))\n",
        "model_1.add(Activation('relu'))\n",
        "\n",
        "## Another 5x5 convolution with 2x2 stride and 32 filters\n",
        "model_1.add(Conv2D(32, (5, 5), strides = (2,2)))\n",
        "model_1.add(Activation('relu'))\n",
        "\n",
        "## 2x2 max pooling reduces to 3 x 3 x 32\n",
        "model_1.add(MaxPooling2D(pool_size=(2, 2)))\n",
        "model_1.add(Dropout(0.25))\n",
        "\n",
        "## Flatten turns 3x3x32 into 288x1\n",
        "model_1.add(Flatten())\n",
        "model_1.add(Dense(512))\n",
        "model_1.add(Activation('relu'))\n",
        "model_1.add(Dropout(0.5))\n",
        "model_1.add(Dense(num_classes))\n",
        "model_1.add(Activation('softmax'))\n",
        "\n",
        "model_1.summary()"
      ],
      "id": "understanding-milan"
    },
    {
      "cell_type": "markdown",
      "metadata": {
        "id": "baking-portable"
      },
      "source": [
        "\n",
        "\n",
        "---\n",
        "\n",
        "\n",
        "* Use batch size of 32\n",
        "* Initiate RMSprop optimizer\n",
        "* Train the model using RMSprop"
      ],
      "id": "baking-portable"
    },
    {
      "cell_type": "code",
      "execution_count": null,
      "metadata": {
        "colab": {
          "base_uri": "https://localhost:8080/"
        },
        "id": "removed-memorial",
        "outputId": "a61a1dfc-b42a-4c89-9975-33ddc021c25d"
      },
      "outputs": [
        {
          "name": "stderr",
          "output_type": "stream",
          "text": [
            "WARNING:absl:`lr` is deprecated in Keras optimizer, please use `learning_rate` or use the legacy optimizer, e.g.,tf.keras.optimizers.legacy.RMSprop.\n"
          ]
        },
        {
          "name": "stdout",
          "output_type": "stream",
          "text": [
            "Epoch 1/15\n",
            "1563/1563 [==============================] - 34s 21ms/step - loss: 1.7155 - accuracy: 0.3748 - val_loss: 1.4481 - val_accuracy: 0.4887\n",
            "Epoch 2/15\n",
            "1563/1563 [==============================] - 33s 21ms/step - loss: 1.4326 - accuracy: 0.4851 - val_loss: 1.2402 - val_accuracy: 0.5588\n",
            "Epoch 3/15\n",
            "1563/1563 [==============================] - 33s 21ms/step - loss: 1.3433 - accuracy: 0.5236 - val_loss: 1.6268 - val_accuracy: 0.4406\n",
            "Epoch 4/15\n",
            "1563/1563 [==============================] - 33s 21ms/step - loss: 1.2982 - accuracy: 0.5428 - val_loss: 1.1900 - val_accuracy: 0.5870\n",
            "Epoch 5/15\n",
            "1563/1563 [==============================] - 33s 21ms/step - loss: 1.2683 - accuracy: 0.5572 - val_loss: 1.1718 - val_accuracy: 0.5960\n",
            "Epoch 6/15\n",
            "1563/1563 [==============================] - 33s 21ms/step - loss: 1.2590 - accuracy: 0.5633 - val_loss: 1.1697 - val_accuracy: 0.5945\n",
            "Epoch 7/15\n",
            "1563/1563 [==============================] - 32s 21ms/step - loss: 1.2512 - accuracy: 0.5703 - val_loss: 1.3039 - val_accuracy: 0.5550\n",
            "Epoch 8/15\n",
            "1563/1563 [==============================] - 33s 21ms/step - loss: 1.2483 - accuracy: 0.5730 - val_loss: 1.1639 - val_accuracy: 0.6014\n",
            "Epoch 9/15\n",
            "1563/1563 [==============================] - 33s 21ms/step - loss: 1.2442 - accuracy: 0.5769 - val_loss: 1.3501 - val_accuracy: 0.5457\n",
            "Epoch 10/15\n",
            "1563/1563 [==============================] - 34s 21ms/step - loss: 1.2487 - accuracy: 0.5767 - val_loss: 1.2087 - val_accuracy: 0.5977\n",
            "Epoch 11/15\n",
            "1563/1563 [==============================] - 31s 20ms/step - loss: 1.2491 - accuracy: 0.5773 - val_loss: 1.2121 - val_accuracy: 0.5924\n",
            "Epoch 12/15\n",
            "1563/1563 [==============================] - 33s 21ms/step - loss: 1.2553 - accuracy: 0.5776 - val_loss: 1.1975 - val_accuracy: 0.5940\n",
            "Epoch 13/15\n",
            "1563/1563 [==============================] - 32s 20ms/step - loss: 1.2684 - accuracy: 0.5766 - val_loss: 1.1953 - val_accuracy: 0.5928\n",
            "Epoch 14/15\n",
            "1563/1563 [==============================] - 33s 21ms/step - loss: 1.2720 - accuracy: 0.5704 - val_loss: 1.4382 - val_accuracy: 0.5163\n",
            "Epoch 15/15\n",
            "1563/1563 [==============================] - 32s 20ms/step - loss: 1.2814 - accuracy: 0.5726 - val_loss: 1.2211 - val_accuracy: 0.5923\n"
          ]
        },
        {
          "data": {
            "text/plain": [
              "<keras.src.callbacks.History at 0x7986d94892d0>"
            ]
          },
          "execution_count": 9,
          "metadata": {},
          "output_type": "execute_result"
        }
      ],
      "source": [
        "batch_size = 32\n",
        "\n",
        "opt = keras.optimizers.RMSprop(lr=0.0005)\n",
        "\n",
        "\n",
        "model_1.compile(loss='categorical_crossentropy',\n",
        "              optimizer=opt,\n",
        "              metrics=['accuracy'])\n",
        "\n",
        "model_1.fit(x_train, y_train,\n",
        "              batch_size=batch_size,\n",
        "              epochs=15,\n",
        "              validation_data=(x_test, y_test))"
      ],
      "id": "removed-memorial"
    },
    {
      "cell_type": "code",
      "execution_count": null,
      "metadata": {
        "colab": {
          "base_uri": "https://localhost:8080/"
        },
        "id": "7eiCk6J1YGN4",
        "outputId": "9cb2281c-3569-4b73-c32a-13042f03feef"
      },
      "outputs": [
        {
          "name": "stdout",
          "output_type": "stream",
          "text": [
            "Test loss: 1.2211015224456787\n",
            "Test accuracy: 0.5922999978065491\n"
          ]
        }
      ],
      "source": [
        "score_1 = model_1.evaluate(x_test, y_test, verbose=0)\n",
        "print('Test loss:', score_1[0])\n",
        "print('Test accuracy:', score_1[1])"
      ],
      "id": "7eiCk6J1YGN4"
    },
    {
      "cell_type": "markdown",
      "metadata": {
        "id": "jewish-lambda"
      },
      "source": [
        "### Supplementary Activity"
      ],
      "id": "jewish-lambda"
    },
    {
      "cell_type": "markdown",
      "metadata": {
        "id": "southeast-theater"
      },
      "source": [
        "\n",
        "* Build a more complicated model with the following pattern:\n",
        "Conv -> Conv -> MaxPool -> Conv -> Conv -> MaxPool -> (Flatten) -> Dense -> Final Classification"
      ],
      "id": "southeast-theater"
    },
    {
      "cell_type": "code",
      "execution_count": null,
      "metadata": {
        "id": "WXhbxBgvhzni"
      },
      "outputs": [],
      "source": [
        "model_2 = Sequential()\n",
        "\n",
        "model_2.add(Conv2D(32, (5, 5), strides=(1, 1), activation='relu', input_shape=x_train.shape[1:]))\n",
        "model_2.add(Conv2D(32, (5, 5), strides=(1, 1), activation='relu'))\n",
        "model_2.add(MaxPooling2D(pool_size=(2, 2)))\n",
        "\n",
        "model_2.add(Conv2D(32, (5, 5), strides=(1, 1), activation='relu'))\n",
        "model_2.add(Conv2D(32, (5, 5), strides=(1, 1), activation='relu'))\n",
        "model_2.add(MaxPooling2D(pool_size=(2, 2)))\n",
        "\n",
        "model_2.add(Flatten())\n",
        "model_2.add(Dense(512, activation='relu'))\n",
        "model_2.add(Dropout(0.5))\n",
        "model_2.add(Dense(num_classes, activation='softmax'))"
      ],
      "id": "WXhbxBgvhzni"
    },
    {
      "cell_type": "markdown",
      "metadata": {
        "id": "DSKoIy3pVQN2"
      },
      "source": [
        "\n",
        "\n",
        "---\n",
        "\n",
        "\n",
        "* Write the number of parameters of your model and compare it to the previous model"
      ],
      "id": "DSKoIy3pVQN2"
    },
    {
      "cell_type": "code",
      "execution_count": null,
      "metadata": {
        "colab": {
          "base_uri": "https://localhost:8080/"
        },
        "id": "YUeYy0b9iA6x",
        "outputId": "be136fe8-0ca7-40e5-e868-113d83a43edd"
      },
      "outputs": [
        {
          "data": {
            "text/plain": [
              "181162"
            ]
          },
          "execution_count": 11,
          "metadata": {},
          "output_type": "execute_result"
        }
      ],
      "source": [
        "model_1.count_params()"
      ],
      "id": "YUeYy0b9iA6x"
    },
    {
      "cell_type": "code",
      "execution_count": null,
      "metadata": {
        "colab": {
          "base_uri": "https://localhost:8080/"
        },
        "id": "1GJ_YakSigVC",
        "outputId": "efdf2a5e-fea7-425e-86c4-ca1df00826c6"
      },
      "outputs": [
        {
          "data": {
            "text/plain": [
              "150506"
            ]
          },
          "execution_count": 12,
          "metadata": {},
          "output_type": "execute_result"
        }
      ],
      "source": [
        "model_2.count_params()"
      ],
      "id": "1GJ_YakSigVC"
    },
    {
      "cell_type": "markdown",
      "metadata": {
        "id": "5vAtVcElVTeD"
      },
      "source": [
        "\n",
        "\n",
        "---\n",
        "\n",
        "\n",
        "* Train it for 5 epochs. Commpare the training time, loss and accuracy numbers (on both the training and validation sets)?"
      ],
      "id": "5vAtVcElVTeD"
    },
    {
      "cell_type": "code",
      "execution_count": null,
      "metadata": {
        "colab": {
          "base_uri": "https://localhost:8080/"
        },
        "id": "O754S8BAiiV4",
        "outputId": "1d7f2907-ad6f-470b-9d59-b9a0416df1db"
      },
      "outputs": [
        {
          "name": "stderr",
          "output_type": "stream",
          "text": [
            "WARNING:absl:`lr` is deprecated in Keras optimizer, please use `learning_rate` or use the legacy optimizer, e.g.,tf.keras.optimizers.legacy.RMSprop.\n"
          ]
        },
        {
          "name": "stdout",
          "output_type": "stream",
          "text": [
            "Epoch 1/5\n",
            "1563/1563 [==============================] - 226s 144ms/step - loss: 1.6895 - accuracy: 0.3831 - val_loss: 1.7064 - val_accuracy: 0.4219\n",
            "Epoch 2/5\n",
            "1563/1563 [==============================] - 220s 141ms/step - loss: 1.3288 - accuracy: 0.5306 - val_loss: 1.2521 - val_accuracy: 0.5576\n",
            "Epoch 3/5\n",
            "1563/1563 [==============================] - 219s 140ms/step - loss: 1.2108 - accuracy: 0.5795 - val_loss: 1.2010 - val_accuracy: 0.5752\n",
            "Epoch 4/5\n",
            "1563/1563 [==============================] - 219s 140ms/step - loss: 1.1454 - accuracy: 0.6073 - val_loss: 1.1587 - val_accuracy: 0.6057\n",
            "Epoch 5/5\n",
            "1563/1563 [==============================] - 219s 140ms/step - loss: 1.1156 - accuracy: 0.6199 - val_loss: 1.1784 - val_accuracy: 0.6029\n"
          ]
        },
        {
          "data": {
            "text/plain": [
              "<keras.src.callbacks.History at 0x7986d4a81b10>"
            ]
          },
          "execution_count": 13,
          "metadata": {},
          "output_type": "execute_result"
        }
      ],
      "source": [
        "batch_size = 32\n",
        "opt = keras.optimizers.RMSprop(lr=0.0005)\n",
        "\n",
        "model_2.compile(loss='categorical_crossentropy', optimizer=opt, metrics=['accuracy'])\n",
        "model_2.fit(x_train, y_train, batch_size=batch_size, epochs=5, validation_data=(x_test, y_test))"
      ],
      "id": "O754S8BAiiV4"
    },
    {
      "cell_type": "code",
      "execution_count": null,
      "metadata": {
        "colab": {
          "base_uri": "https://localhost:8080/"
        },
        "id": "zLdK22kFaNzj",
        "outputId": "8887df79-c981-405b-aa6e-2d7788169e5d"
      },
      "outputs": [
        {
          "name": "stdout",
          "output_type": "stream",
          "text": [
            "Epoch 1/5\n",
            "1563/1563 [==============================] - 220s 141ms/step - loss: 1.1218 - accuracy: 0.6233 - val_loss: 1.1503 - val_accuracy: 0.6163\n",
            "Epoch 2/5\n",
            "1563/1563 [==============================] - 224s 143ms/step - loss: 1.1160 - accuracy: 0.6280 - val_loss: 1.2036 - val_accuracy: 0.6057\n",
            "Epoch 3/5\n",
            "1563/1563 [==============================] - 217s 139ms/step - loss: 1.1186 - accuracy: 0.6287 - val_loss: 1.2593 - val_accuracy: 0.5851\n",
            "Epoch 4/5\n",
            "1563/1563 [==============================] - 216s 138ms/step - loss: 1.1385 - accuracy: 0.6256 - val_loss: 1.2322 - val_accuracy: 0.6127\n",
            "Epoch 5/5\n",
            "1563/1563 [==============================] - 214s 137ms/step - loss: 1.1556 - accuracy: 0.6188 - val_loss: 1.2400 - val_accuracy: 0.6088\n"
          ]
        }
      ],
      "source": [
        "score_2 = model_2.fit(x_train, y_train, batch_size=batch_size, epochs=5, validation_data=(x_test, y_test))"
      ],
      "id": "zLdK22kFaNzj"
    },
    {
      "cell_type": "code",
      "execution_count": null,
      "metadata": {
        "colab": {
          "base_uri": "https://localhost:8080/"
        },
        "id": "0iaTfSzLaDbM",
        "outputId": "b97343f9-f765-4208-afa6-b55691313c50"
      },
      "outputs": [
        {
          "name": "stdout",
          "output_type": "stream",
          "text": [
            "Train Loss: [1.121795415878296, 1.1159931421279907, 1.1185857057571411, 1.1384644508361816, 1.1556131839752197]\n",
            "Train Accuracy: [0.6232600212097168, 0.628000020980835, 0.6286799907684326, 0.6255800127983093, 0.6187999844551086]\n",
            "Validation Loss: [1.1503469944000244, 1.2036415338516235, 1.2592577934265137, 1.2321882247924805, 1.2399619817733765]\n",
            "Validation Accuracy: [0.6162999868392944, 0.6057000160217285, 0.585099995136261, 0.6126999855041504, 0.6087999939918518]\n"
          ]
        }
      ],
      "source": [
        "print(\"Train Loss:\", score_2.history['loss'])\n",
        "print(\"Train Accuracy:\", score_2.history['accuracy'])\n",
        "print(\"Validation Loss:\", score_2.history['val_loss'])\n",
        "print(\"Validation Accuracy:\", score_2.history['val_accuracy'])"
      ],
      "id": "0iaTfSzLaDbM"
    },
    {
      "cell_type": "code",
      "execution_count": null,
      "metadata": {
        "colab": {
          "base_uri": "https://localhost:8080/"
        },
        "id": "hFLo5LSygHou",
        "outputId": "46d8dcaa-b6c9-4154-aac1-d46ab462a44b"
      },
      "outputs": [
        {
          "name": "stdout",
          "output_type": "stream",
          "text": [
            "Train Loss: 1.1556131839752197\n",
            "Train Accuracy: 0.6187999844551086\n",
            "Validation Loss: 1.2399619817733765\n",
            "Validation Accuracy: 0.6087999939918518\n"
          ]
        }
      ],
      "source": [
        "print(\"Train Loss:\", score_2.history['loss'][-1])\n",
        "print(\"Train Accuracy:\", score_2.history['accuracy'][-1])\n",
        "print(\"Validation Loss:\", score_2.history['val_loss'][-1])\n",
        "print(\"Validation Accuracy:\", score_2.history['val_accuracy'][-1])"
      ],
      "id": "hFLo5LSygHou"
    },
    {
      "cell_type": "markdown",
      "source": [],
      "metadata": {
        "id": "8QPz0DU95b3x"
      },
      "id": "8QPz0DU95b3x"
    },
    {
      "cell_type": "markdown",
      "metadata": {
        "id": "OYw2ixZ4VWYD"
      },
      "source": [
        "\n",
        "\n",
        "---\n",
        "\n",
        "\n",
        "* Use different structures and run times, and see how accurate your model can be."
      ],
      "id": "OYw2ixZ4VWYD"
    },
    {
      "cell_type": "markdown",
      "source": [
        "Changed the second block's convolution shape and filter count, as well as the dense layer's unit count."
      ],
      "metadata": {
        "id": "wznCYFMc5beI"
      },
      "id": "wznCYFMc5beI"
    },
    {
      "cell_type": "code",
      "execution_count": null,
      "metadata": {
        "id": "pEJjM1xWVlgt"
      },
      "outputs": [],
      "source": [
        "\n",
        "\n",
        "model_3 = Sequential()\n",
        "\n",
        "model_3.add(Conv2D(32, (3, 3), strides=(1, 1), activation='relu', input_shape=x_train.shape[1:]))\n",
        "model_3.add(Conv2D(32, (3, 3), strides=(1, 1), activation='relu'))\n",
        "model_3.add(MaxPooling2D(pool_size=(2, 2)))\n",
        "\n",
        "model_3.add(Conv2D(64, (3, 3), strides=(1, 1), activation='relu'))\n",
        "model_3.add(Conv2D(64, (3, 3), strides=(1, 1), activation='relu'))\n",
        "model_3.add(MaxPooling2D(pool_size=(2, 2)))\n",
        "\n",
        "model_3.add(Flatten())\n",
        "model_3.add(Dense(64, activation='relu'))\n",
        "model_3.add(Dropout(0.5))\n",
        "model_3.add(Dense(num_classes, activation='softmax'))"
      ],
      "id": "pEJjM1xWVlgt"
    },
    {
      "cell_type": "code",
      "execution_count": null,
      "metadata": {
        "colab": {
          "base_uri": "https://localhost:8080/"
        },
        "id": "nkfGEQn4iiQG",
        "outputId": "5253dc77-583b-4d0d-d03c-0855a428da8c"
      },
      "outputs": [
        {
          "data": {
            "text/plain": [
              "168682"
            ]
          },
          "execution_count": 24,
          "metadata": {},
          "output_type": "execute_result"
        }
      ],
      "source": [
        "model_3.count_params()"
      ],
      "id": "nkfGEQn4iiQG"
    },
    {
      "cell_type": "code",
      "execution_count": null,
      "metadata": {
        "colab": {
          "base_uri": "https://localhost:8080/"
        },
        "id": "0cV-stkQihvN",
        "outputId": "66091c7e-25d4-41e5-ad58-531b5d2464d9"
      },
      "outputs": [
        {
          "name": "stdout",
          "output_type": "stream",
          "text": [
            "Epoch 1/5\n",
            "1563/1563 [==============================] - 176s 112ms/step - loss: 1.7218 - accuracy: 0.3732 - val_loss: 1.2971 - val_accuracy: 0.5312\n",
            "Epoch 2/5\n",
            "1563/1563 [==============================] - 172s 110ms/step - loss: 1.3096 - accuracy: 0.5390 - val_loss: 1.1084 - val_accuracy: 0.6157\n",
            "Epoch 3/5\n",
            "1563/1563 [==============================] - 172s 110ms/step - loss: 1.1660 - accuracy: 0.5952 - val_loss: 1.0121 - val_accuracy: 0.6427\n",
            "Epoch 4/5\n",
            "1563/1563 [==============================] - 173s 111ms/step - loss: 1.0957 - accuracy: 0.6251 - val_loss: 1.0644 - val_accuracy: 0.6299\n",
            "Epoch 5/5\n",
            "1563/1563 [==============================] - 172s 110ms/step - loss: 1.0766 - accuracy: 0.6377 - val_loss: 1.1900 - val_accuracy: 0.6133\n"
          ]
        }
      ],
      "source": [
        "batch_size = 32\n",
        "opt = keras.optimizers.RMSprop(lr=0.0005)\n",
        "\n",
        "model_3.compile(loss='categorical_crossentropy', optimizer=opt, metrics=['accuracy'])\n",
        "score_3 = model_3.fit(x_train, y_train, batch_size=batch_size, epochs=5, validation_data=(x_test, y_test))"
      ],
      "id": "0cV-stkQihvN"
    },
    {
      "cell_type": "code",
      "execution_count": null,
      "metadata": {
        "colab": {
          "base_uri": "https://localhost:8080/"
        },
        "id": "tFx8cGiSioFM",
        "outputId": "3c2b7f6f-feb0-42b8-8e37-8afb10ac009c"
      },
      "outputs": [
        {
          "name": "stdout",
          "output_type": "stream",
          "text": [
            "Train Loss: 1.0765604972839355\n",
            "Train Accuracy: 0.637660026550293\n",
            "Validation Loss: 1.1899514198303223\n",
            "Validation Accuracy: 0.6133000254631042\n"
          ]
        }
      ],
      "source": [
        "print(\"Train Loss:\", score_3.history['loss'][-1])\n",
        "print(\"Train Accuracy:\", score_3.history['accuracy'][-1])\n",
        "print(\"Validation Loss:\", score_3.history['val_loss'][-1])\n",
        "print(\"Validation Accuracy:\", score_3.history['val_accuracy'][-1])"
      ],
      "id": "tFx8cGiSioFM"
    },
    {
      "cell_type": "markdown",
      "source": [
        "Altered the number of filters in the second block, the number of units in the dense layer, and the activation function."
      ],
      "metadata": {
        "id": "oR8GBL0C5eE1"
      },
      "id": "oR8GBL0C5eE1"
    },
    {
      "cell_type": "code",
      "execution_count": 9,
      "metadata": {
        "id": "WHayDVzOin7k"
      },
      "outputs": [],
      "source": [
        "model_4 = Sequential()\n",
        "\n",
        "model_4.add(Conv2D(32, (5, 5), strides=(1, 1), activation='leaky_relu', input_shape=x_train.shape[1:]))\n",
        "model_4.add(Conv2D(32, (5, 5), strides=(1, 1), activation='leaky_relu'))\n",
        "model_4.add(MaxPooling2D(pool_size=(2, 2)))\n",
        "\n",
        "model_4.add(Conv2D(64, (5, 5), strides=(1, 1), activation='leaky_relu'))\n",
        "model_4.add(Conv2D(64, (5, 5), strides=(1, 1), activation='leaky_relu'))\n",
        "model_4.add(MaxPooling2D(pool_size=(2, 2)))\n",
        "\n",
        "model_4.add(Flatten())\n",
        "model_4.add(Dense(64, activation='relu'))\n",
        "model_4.add(Dropout(0.5))\n",
        "model_4.add(Dense(num_classes, activation='softmax'))"
      ],
      "id": "WHayDVzOin7k"
    },
    {
      "cell_type": "code",
      "execution_count": 10,
      "metadata": {
        "colab": {
          "base_uri": "https://localhost:8080/"
        },
        "id": "orz8aYhyotzv",
        "outputId": "a2b30b35-9d27-4fc5-e0c2-55cdfba8ecd9"
      },
      "outputs": [
        {
          "output_type": "execute_result",
          "data": {
            "text/plain": [
              "198890"
            ]
          },
          "metadata": {},
          "execution_count": 10
        }
      ],
      "source": [
        "model_4.count_params()"
      ],
      "id": "orz8aYhyotzv"
    },
    {
      "cell_type": "code",
      "execution_count": 11,
      "metadata": {
        "colab": {
          "base_uri": "https://localhost:8080/"
        },
        "id": "jJCipRSuottX",
        "outputId": "e6c507f0-3086-4aee-d65f-334ce8fb0bbc"
      },
      "outputs": [
        {
          "output_type": "stream",
          "name": "stderr",
          "text": [
            "WARNING:absl:`lr` is deprecated in Keras optimizer, please use `learning_rate` or use the legacy optimizer, e.g.,tf.keras.optimizers.legacy.RMSprop.\n"
          ]
        },
        {
          "output_type": "stream",
          "name": "stdout",
          "text": [
            "Epoch 1/5\n",
            "1563/1563 [==============================] - 128s 82ms/step - loss: 1.7125 - accuracy: 0.3861 - val_loss: 1.3509 - val_accuracy: 0.5209\n",
            "Epoch 2/5\n",
            "1563/1563 [==============================] - 127s 81ms/step - loss: 1.3660 - accuracy: 0.5303 - val_loss: 1.1455 - val_accuracy: 0.5987\n",
            "Epoch 3/5\n",
            "1563/1563 [==============================] - 128s 82ms/step - loss: 1.2487 - accuracy: 0.5789 - val_loss: 1.0982 - val_accuracy: 0.6311\n",
            "Epoch 4/5\n",
            "1563/1563 [==============================] - 127s 82ms/step - loss: 1.2025 - accuracy: 0.5982 - val_loss: 1.2355 - val_accuracy: 0.5829\n",
            "Epoch 5/5\n",
            "1563/1563 [==============================] - 127s 82ms/step - loss: 1.1853 - accuracy: 0.6099 - val_loss: 1.0995 - val_accuracy: 0.6296\n"
          ]
        }
      ],
      "source": [
        "batch_size = 32\n",
        "opt = keras.optimizers.RMSprop(lr=0.0005)\n",
        "\n",
        "model_4.compile(loss='categorical_crossentropy', optimizer=opt, metrics=['accuracy'])\n",
        "score_4 = model_4.fit(x_train, y_train, batch_size=batch_size, epochs=5, validation_data=(x_test, y_test))"
      ],
      "id": "jJCipRSuottX"
    },
    {
      "cell_type": "code",
      "execution_count": 12,
      "metadata": {
        "id": "wN1udTX_o0S3",
        "colab": {
          "base_uri": "https://localhost:8080/"
        },
        "outputId": "d118db84-518d-45fd-e621-62ca1289b2d1"
      },
      "outputs": [
        {
          "output_type": "stream",
          "name": "stdout",
          "text": [
            "Train Loss: 1.1852623224258423\n",
            "Train Accuracy: 0.6098999977111816\n",
            "Validation Loss: 1.0995484590530396\n",
            "Validation Accuracy: 0.6295999884605408\n"
          ]
        }
      ],
      "source": [
        "print(\"Train Loss:\", score_4.history['loss'][-1])\n",
        "print(\"Train Accuracy:\", score_4.history['accuracy'][-1])\n",
        "print(\"Validation Loss:\", score_4.history['val_loss'][-1])\n",
        "print(\"Validation Accuracy:\", score_4.history['val_accuracy'][-1])"
      ],
      "id": "wN1udTX_o0S3"
    },
    {
      "cell_type": "markdown",
      "source": [
        "Remove one layer of convolution every block and place a dropout after the max pooling processes. Changed the number of units in the dense layer and experimented with different activation functions."
      ],
      "metadata": {
        "id": "NoPtNAPe5fzC"
      },
      "id": "NoPtNAPe5fzC"
    },
    {
      "cell_type": "code",
      "source": [
        "model_5 = Sequential()\n",
        "\n",
        "model_5.add(Conv2D(32, (3, 3), strides=(1, 1), activation='relu', input_shape=x_train.shape[1:]))\n",
        "model_5.add(MaxPooling2D(pool_size=(2, 2)))\n",
        "model_5.add(Dropout(0.25))\n",
        "\n",
        "model_5.add(Conv2D(64, (5, 5), strides=(1, 1), activation='relu'))\n",
        "model_5.add(MaxPooling2D(pool_size=(2, 2)))\n",
        "model_5.add(Dropout(0.25))\n",
        "\n",
        "model_5.add(Flatten())\n",
        "model_5.add(Dense(128, activation='tanh'))\n",
        "model_5.add(Dropout(0.5))\n",
        "model_5.add(Dense(num_classes, activation='softmax'))"
      ],
      "metadata": {
        "id": "LnAED--yxGiO"
      },
      "id": "LnAED--yxGiO",
      "execution_count": 15,
      "outputs": []
    },
    {
      "cell_type": "code",
      "source": [
        "model_5.count_params()"
      ],
      "metadata": {
        "colab": {
          "base_uri": "https://localhost:8080/"
        },
        "id": "T4XSL6y5xJE_",
        "outputId": "8fc4dc8f-3d04-4058-ddb3-a95410d41858"
      },
      "id": "T4XSL6y5xJE_",
      "execution_count": 16,
      "outputs": [
        {
          "output_type": "execute_result",
          "data": {
            "text/plain": [
              "258378"
            ]
          },
          "metadata": {},
          "execution_count": 16
        }
      ]
    },
    {
      "cell_type": "code",
      "source": [
        "batch_size = 32\n",
        "opt = keras.optimizers.RMSprop(lr=0.0005)\n",
        "\n",
        "model_5.compile(loss='categorical_crossentropy', optimizer=opt, metrics=['accuracy'])\n",
        "score_5 = model_5.fit(x_train, y_train, batch_size=batch_size, epochs=5, validation_data=(x_test, y_test))"
      ],
      "metadata": {
        "colab": {
          "base_uri": "https://localhost:8080/"
        },
        "id": "bTqJ4UmexI_O",
        "outputId": "8e36f76f-35b7-460a-d98e-695f50d8c8b1"
      },
      "id": "bTqJ4UmexI_O",
      "execution_count": 17,
      "outputs": [
        {
          "output_type": "stream",
          "name": "stderr",
          "text": [
            "WARNING:absl:`lr` is deprecated in Keras optimizer, please use `learning_rate` or use the legacy optimizer, e.g.,tf.keras.optimizers.legacy.RMSprop.\n"
          ]
        },
        {
          "output_type": "stream",
          "name": "stdout",
          "text": [
            "Epoch 1/5\n",
            "1563/1563 [==============================] - 57s 36ms/step - loss: 1.5593 - accuracy: 0.4381 - val_loss: 1.1925 - val_accuracy: 0.5751\n",
            "Epoch 2/5\n",
            "1563/1563 [==============================] - 55s 35ms/step - loss: 1.2425 - accuracy: 0.5643 - val_loss: 1.2453 - val_accuracy: 0.5627\n",
            "Epoch 3/5\n",
            "1563/1563 [==============================] - 55s 35ms/step - loss: 1.1318 - accuracy: 0.6088 - val_loss: 1.0813 - val_accuracy: 0.6198\n",
            "Epoch 4/5\n",
            "1563/1563 [==============================] - 55s 35ms/step - loss: 1.0646 - accuracy: 0.6336 - val_loss: 0.9706 - val_accuracy: 0.6615\n",
            "Epoch 5/5\n",
            "1563/1563 [==============================] - 57s 36ms/step - loss: 1.0231 - accuracy: 0.6488 - val_loss: 0.9068 - val_accuracy: 0.6869\n"
          ]
        }
      ]
    },
    {
      "cell_type": "code",
      "source": [
        "print(\"Train Loss:\", score_5.history['loss'][-1])\n",
        "print(\"Train Accuracy:\", score_5.history['accuracy'][-1])\n",
        "print(\"Validation Loss:\", score_5.history['val_loss'][-1])\n",
        "print(\"Validation Accuracy:\", score_5.history['val_accuracy'][-1])"
      ],
      "metadata": {
        "colab": {
          "base_uri": "https://localhost:8080/"
        },
        "id": "Z7Ek5Xt9yBRr",
        "outputId": "a03c2717-1d49-4a52-bddb-1956682265b9"
      },
      "id": "Z7Ek5Xt9yBRr",
      "execution_count": 18,
      "outputs": [
        {
          "output_type": "stream",
          "name": "stdout",
          "text": [
            "Train Loss: 1.0231318473815918\n",
            "Train Accuracy: 0.6488400101661682\n",
            "Validation Loss: 0.9068314433097839\n",
            "Validation Accuracy: 0.6869000196456909\n"
          ]
        }
      ]
    },
    {
      "cell_type": "code",
      "source": [],
      "metadata": {
        "id": "c1FaZCEhyBLY"
      },
      "id": "c1FaZCEhyBLY",
      "execution_count": null,
      "outputs": []
    },
    {
      "cell_type": "markdown",
      "metadata": {
        "id": "compact-still"
      },
      "source": [
        "#### Conclusion"
      ],
      "id": "compact-still"
    },
    {
      "cell_type": "markdown",
      "metadata": {
        "id": "desirable-jackson"
      },
      "source": [
        "I understand that a Convolutional Neural Network acts like a filter that slides across an image, known as strides, in order to find certain features and provide an output about them, as opposed to other techniques that use the entirety of the picture. So far in this activity, I have answered the supplementary question about modifying the model to have a different structure, then compared the new model (model_2) to the previous model (model_1) and discovered that the new model has an increase in train accuracy of about 2%, while the validation accuracy has increased by about 1% for model_2. Then I experimented with different model structures to see which one could improve the model's accuracy by using different convolution shapes, different number of filters, different activation functions, tinkering with the dense layer, adding or removing certain processes, and so on.\n"
      ],
      "id": "desirable-jackson"
    },
    {
      "cell_type": "code",
      "source": [],
      "metadata": {
        "id": "rRIOXlHI6bfz"
      },
      "id": "rRIOXlHI6bfz",
      "execution_count": null,
      "outputs": []
    },
    {
      "cell_type": "code",
      "source": [],
      "metadata": {
        "id": "cqPZEPpl6bZe"
      },
      "id": "cqPZEPpl6bZe",
      "execution_count": null,
      "outputs": []
    }
  ],
  "metadata": {
    "colab": {
      "provenance": [],
      "include_colab_link": true
    },
    "kernelspec": {
      "display_name": "Python 3",
      "language": "python",
      "name": "python3"
    },
    "language_info": {
      "codemirror_mode": {
        "name": "ipython",
        "version": 3
      },
      "file_extension": ".py",
      "mimetype": "text/x-python",
      "name": "python",
      "nbconvert_exporter": "python",
      "pygments_lexer": "ipython3",
      "version": "3.7.10"
    }
  },
  "nbformat": 4,
  "nbformat_minor": 5
}