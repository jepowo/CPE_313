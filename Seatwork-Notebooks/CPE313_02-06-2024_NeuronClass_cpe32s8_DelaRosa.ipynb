{
  "cells": [
    {
      "cell_type": "markdown",
      "metadata": {
        "colab_type": "text",
        "id": "view-in-github"
      },
      "source": [
        "<a href=\"https://colab.research.google.com/github/jepowo/CPE_313/blob/main/cpe313_NeuronClass_SW_cpe32s8_DelaRosa.ipynb\" target=\"_parent\"><img src=\"https://colab.research.google.com/assets/colab-badge.svg\" alt=\"Open In Colab\"/></a>"
      ]
    },
    {
      "cell_type": "code",
      "execution_count": 10,
      "metadata": {
        "id": "00sOpriYKqfi"
      },
      "outputs": [],
      "source": [
        "class Neuron:\n",
        "    def __init__(self, x_inputs, weights):\n",
        "        self.x_inputs = x_inputs\n",
        "        self.weights = weights\n",
        "        self.weighted_ins = []\n",
        "        self.total = None\n",
        "        self.acti = None\n",
        "\n",
        "    def adder(self):\n",
        "        for i in range(0, len(self.x_inputs)):\n",
        "            self.weighted_ins.append(self.x_inputs[i]*self.weights[i])\n",
        "        self.total = sum(self.weighted_ins)\n",
        "        return self.total\n",
        "\n",
        "    def relu_act(self, acti=0):\n",
        "        self.acti = acti\n",
        "        if self.total > self.acti:\n",
        "            return self.total\n",
        "        else:\n",
        "            return 0"
      ]
    },
    {
      "cell_type": "code",
      "execution_count": 11,
      "metadata": {
        "id": "MWipfROrYmj-"
      },
      "outputs": [],
      "source": [
        "import random"
      ]
    },
    {
      "cell_type": "code",
      "execution_count": 12,
      "metadata": {
        "id": "PAj_cR-gZBDu"
      },
      "outputs": [],
      "source": [
        "def gen_Random_Vals(list_len, low, high):\n",
        "    rand_list = []\n",
        "    for i in range(0, list_len):\n",
        "        n = random.randint(low,high)\n",
        "        rand_list.append(n)\n",
        "    return rand_list"
      ]
    },
    {
      "cell_type": "code",
      "execution_count": 13,
      "metadata": {
        "id": "xn5fqvwpO1U6"
      },
      "outputs": [],
      "source": [
        "list_len = 5\n",
        "r_xin = []\n",
        "r_w = []\n",
        "\n",
        "r_xin = gen_Random_Vals(list_len, -10, 10)\n",
        "r_w = gen_Random_Vals(list_len, -1, 1)\n",
        "\n",
        "myList = Neuron(r_xin,r_w)"
      ]
    },
    {
      "cell_type": "code",
      "execution_count": 14,
      "metadata": {
        "colab": {
          "base_uri": "https://localhost:8080/",
          "height": 0
        },
        "id": "OwC0DNCgTPsQ",
        "outputId": "41491919-da41-479b-e8af-8c59338a0459"
      },
      "outputs": [
        {
          "data": {
            "text/plain": [
              "[-6, -7, -3, -2, -9]"
            ]
          },
          "execution_count": 14,
          "metadata": {},
          "output_type": "execute_result"
        }
      ],
      "source": [
        "myList.x_inputs"
      ]
    },
    {
      "cell_type": "code",
      "execution_count": 15,
      "metadata": {
        "colab": {
          "base_uri": "https://localhost:8080/",
          "height": 0
        },
        "id": "F8tfYv5rTUT_",
        "outputId": "8446c0ac-6c0b-420b-e820-04f05882b15e"
      },
      "outputs": [
        {
          "data": {
            "text/plain": [
              "[0, 1, 0, -1, 0]"
            ]
          },
          "execution_count": 15,
          "metadata": {},
          "output_type": "execute_result"
        }
      ],
      "source": [
        "myList.weights"
      ]
    },
    {
      "cell_type": "code",
      "execution_count": 16,
      "metadata": {
        "colab": {
          "base_uri": "https://localhost:8080/",
          "height": 0
        },
        "id": "uzEHOiOlPCDJ",
        "outputId": "9b8d57a0-af09-4ce8-b3a6-a58d6dd21ae2"
      },
      "outputs": [
        {
          "data": {
            "text/plain": [
              "-5"
            ]
          },
          "execution_count": 16,
          "metadata": {},
          "output_type": "execute_result"
        }
      ],
      "source": [
        "myList.adder()"
      ]
    },
    {
      "cell_type": "code",
      "execution_count": 17,
      "metadata": {
        "colab": {
          "base_uri": "https://localhost:8080/",
          "height": 0
        },
        "id": "Bp76rrYfTWSw",
        "outputId": "6b4bbb27-e249-427c-f599-065e0ff67218"
      },
      "outputs": [
        {
          "data": {
            "text/plain": [
              "[0, -7, 0, 2, 0]"
            ]
          },
          "execution_count": 17,
          "metadata": {},
          "output_type": "execute_result"
        }
      ],
      "source": [
        "myList.weighted_ins"
      ]
    },
    {
      "cell_type": "code",
      "execution_count": 18,
      "metadata": {
        "colab": {
          "base_uri": "https://localhost:8080/",
          "height": 0
        },
        "id": "ZFkihKQWTcwg",
        "outputId": "3d906e10-70dd-4579-f364-085425459075"
      },
      "outputs": [
        {
          "data": {
            "text/plain": [
              "0"
            ]
          },
          "execution_count": 18,
          "metadata": {},
          "output_type": "execute_result"
        }
      ],
      "source": [
        "myList.relu_act()"
      ]
    },
    {
      "cell_type": "code",
      "execution_count": 19,
      "metadata": {
        "id": "husPWRDfPF1a"
      },
      "outputs": [],
      "source": [
        "len = 10\n",
        "x = []\n",
        "w = []\n",
        "\n",
        "x = gen_Random_Vals(len, -20, 20)\n",
        "w = gen_Random_Vals(len, -5, 5)\n",
        "\n",
        "myList2 = Neuron(x,w)"
      ]
    },
    {
      "cell_type": "code",
      "execution_count": 20,
      "metadata": {
        "colab": {
          "base_uri": "https://localhost:8080/"
        },
        "id": "hFpQWliecntc",
        "outputId": "2464a378-885a-4af6-b8e5-e99e22f4a838"
      },
      "outputs": [
        {
          "data": {
            "text/plain": [
              "[-12, 8, -11, -7, -16, 20, 19, -9, 13, -11]"
            ]
          },
          "execution_count": 20,
          "metadata": {},
          "output_type": "execute_result"
        }
      ],
      "source": [
        "myList2.x_inputs"
      ]
    },
    {
      "cell_type": "code",
      "execution_count": 21,
      "metadata": {
        "colab": {
          "base_uri": "https://localhost:8080/"
        },
        "id": "tywQT4I7cstU",
        "outputId": "1cc731a5-34ca-4568-f236-bb6457cb2614"
      },
      "outputs": [
        {
          "data": {
            "text/plain": [
              "[-2, 2, -1, -1, -4, -3, 5, -3, 0, -5]"
            ]
          },
          "execution_count": 21,
          "metadata": {},
          "output_type": "execute_result"
        }
      ],
      "source": [
        "myList2.weights"
      ]
    },
    {
      "cell_type": "code",
      "execution_count": 22,
      "metadata": {
        "colab": {
          "base_uri": "https://localhost:8080/",
          "height": 297
        },
        "id": "g8_aRwQmcvSk",
        "outputId": "14c65010-2cbc-469f-8b5f-1d56e8e6fd7f"
      },
      "outputs": [
        {
          "ename": "TypeError",
          "evalue": "'int' object is not callable",
          "output_type": "error",
          "traceback": [
            "\u001b[0;31m---------------------------------------------------------------------------\u001b[0m",
            "\u001b[0;31mTypeError\u001b[0m                                 Traceback (most recent call last)",
            "Cell \u001b[0;32mIn[22], line 1\u001b[0m\n\u001b[0;32m----> 1\u001b[0m \u001b[43mmyList2\u001b[49m\u001b[38;5;241;43m.\u001b[39;49m\u001b[43madder\u001b[49m\u001b[43m(\u001b[49m\u001b[43m)\u001b[49m\n",
            "Cell \u001b[0;32mIn[10], line 10\u001b[0m, in \u001b[0;36mNeuron.adder\u001b[0;34m(self)\u001b[0m\n\u001b[1;32m      9\u001b[0m \u001b[38;5;28;01mdef\u001b[39;00m \u001b[38;5;21madder\u001b[39m(\u001b[38;5;28mself\u001b[39m):\n\u001b[0;32m---> 10\u001b[0m     \u001b[38;5;28;01mfor\u001b[39;00m i \u001b[38;5;129;01min\u001b[39;00m \u001b[38;5;28mrange\u001b[39m(\u001b[38;5;241m0\u001b[39m, \u001b[38;5;28;43mlen\u001b[39;49m\u001b[43m(\u001b[49m\u001b[38;5;28;43mself\u001b[39;49m\u001b[38;5;241;43m.\u001b[39;49m\u001b[43mx_inputs\u001b[49m\u001b[43m)\u001b[49m):\n\u001b[1;32m     11\u001b[0m         \u001b[38;5;28mself\u001b[39m\u001b[38;5;241m.\u001b[39mweighted_ins\u001b[38;5;241m.\u001b[39mappend(\u001b[38;5;28mself\u001b[39m\u001b[38;5;241m.\u001b[39mx_inputs[i]\u001b[38;5;241m*\u001b[39m\u001b[38;5;28mself\u001b[39m\u001b[38;5;241m.\u001b[39mweights[i])\n\u001b[1;32m     12\u001b[0m     \u001b[38;5;28mself\u001b[39m\u001b[38;5;241m.\u001b[39mtotal \u001b[38;5;241m=\u001b[39m \u001b[38;5;28msum\u001b[39m(\u001b[38;5;28mself\u001b[39m\u001b[38;5;241m.\u001b[39mweighted_ins)\n",
            "\u001b[0;31mTypeError\u001b[0m: 'int' object is not callable"
          ]
        }
      ],
      "source": [
        "myList2.adder()"
      ]
    },
    {
      "cell_type": "code",
      "execution_count": null,
      "metadata": {
        "id": "nyX0u9EqcxB0"
      },
      "outputs": [],
      "source": [
        "myList"
      ]
    }
  ],
  "metadata": {
    "colab": {
      "authorship_tag": "ABX9TyMULtQY7jE1h/UVbORpwpzz",
      "include_colab_link": true,
      "provenance": []
    },
    "kernelspec": {
      "display_name": "Python 3 (ipykernel)",
      "language": "python",
      "name": "python3"
    },
    "language_info": {
      "codemirror_mode": {
        "name": "ipython",
        "version": 3
      },
      "file_extension": ".py",
      "mimetype": "text/x-python",
      "name": "python",
      "nbconvert_exporter": "python",
      "pygments_lexer": "ipython3",
      "version": "3.10.13"
    }
  },
  "nbformat": 4,
  "nbformat_minor": 0
}
