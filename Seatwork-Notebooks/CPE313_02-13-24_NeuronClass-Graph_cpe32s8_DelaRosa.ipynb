{
  "cells": [
    {
      "cell_type": "code",
      "execution_count": 41,
      "metadata": {
        "id": "00sOpriYKqfi"
      },
      "outputs": [],
      "source": [
        "class Neuron:\n",
        "    def __init__(self, num_inputs):\n",
        "        self.output = 0\n",
        "        self.weights = []\n",
        "        for i in range(num_inputs):\n",
        "            # Initialize a neuron with random weights\n",
        "            self.weights.append(randint(1, 10))\n",
        "\n",
        "    # Calculate the weighted sum of inputs\n",
        "    def adder(self, inputs):\n",
        "        weighted_sum = 0\n",
        "        for x, w in zip(inputs, self.weights):\n",
        "            weighted_sum += x * w\n",
        "        return weighted_sum\n",
        "\n",
        "    # Apply ReLU activation function\n",
        "    def relu_act(self, value):\n",
        "        if value > 0:\n",
        "            return value\n",
        "        else:\n",
        "            return 0\n",
        "\n",
        "    # Activate the neuron with input values (for printing)\n",
        "    def activate(self, inputs):\n",
        "        sum_inputs = self.adder(inputs)\n",
        "        self.output = self.relu_act(sum_inputs)\n",
        "        return self.output\n",
        "\n",
        "    # Print the output value of the neuron\n",
        "    def print_output(self):\n",
        "        print(\"Neuron Output:\", self.output)"
      ]
    },
    {
      "cell_type": "markdown",
      "metadata": {
        "id": "-t79xsUP6Do6"
      },
      "source": [
        "\n",
        "\n",
        "---\n",
        "\n"
      ]
    },
    {
      "cell_type": "code",
      "execution_count": 23,
      "metadata": {
        "id": "PAj_cR-gZBDu"
      },
      "outputs": [],
      "source": [
        "from random import randint\n",
        "\n",
        "# Generate a list of random values within a specified range\n",
        "def generate_values(length, low, high):\n",
        "    list_values = []\n",
        "    for i in range(length):\n",
        "        list_values.append(randint(low, high))\n",
        "    return list_values"
      ]
    },
    {
      "cell_type": "code",
      "execution_count": 22,
      "metadata": {
        "colab": {
          "base_uri": "https://localhost:8080/"
        },
        "id": "n9Qh79efz3E-",
        "outputId": "598e2c65-703f-4faf-9686-b76e9428b9d1"
      },
      "outputs": [
        {
          "data": {
            "text/plain": [
              "[5, 3, 6, 4, 9]"
            ]
          },
          "execution_count": 22,
          "metadata": {},
          "output_type": "execute_result"
        }
      ],
      "source": [
        "input_size = 5\n",
        "\n",
        "# Generate input values\n",
        "input_values = generate_values(input_size, 1, 10)\n",
        "input_values"
      ]
    },
    {
      "cell_type": "markdown",
      "metadata": {
        "id": "jVvVvQ9c6RKe"
      },
      "source": [
        "\n",
        "\n",
        "---\n",
        "\n"
      ]
    },
    {
      "cell_type": "code",
      "execution_count": 29,
      "metadata": {
        "id": "2x6BrKsV1VMm"
      },
      "outputs": [],
      "source": [
        "# Create a list of neurons with specified number of neurons and inputs\n",
        "def create_neurons(num_neurons, num_inputs):\n",
        "    list_neurons = []\n",
        "    for i in range(num_neurons):\n",
        "        list_neurons.append(Neuron(num_inputs))\n",
        "    return list_neurons"
      ]
    },
    {
      "cell_type": "code",
      "execution_count": 94,
      "metadata": {
        "id": "qqYIYYa41Wxf"
      },
      "outputs": [],
      "source": [
        "num_neurons_layer1 = 5\n",
        "\n",
        "# Create neurons for the first hidden layer\n",
        "neurons_HidLayer1 = create_neurons(num_neurons_layer1, input_size)"
      ]
    },
    {
      "cell_type": "code",
      "execution_count": 95,
      "metadata": {
        "colab": {
          "base_uri": "https://localhost:8080/"
        },
        "id": "5Uu0ga3O5t3A",
        "outputId": "94286f68-20a5-4330-a8ff-963cc3168359"
      },
      "outputs": [
        {
          "name": "stdout",
          "output_type": "stream",
          "text": [
            "Neuron Output: 165\n",
            "Neuron Output: 147\n",
            "Neuron Output: 68\n",
            "Neuron Output: 145\n",
            "Neuron Output: 119\n"
          ]
        }
      ],
      "source": [
        "# Activate neurons in the first hidden layer and print their output\n",
        "for neuron in neurons_HidLayer1:\n",
        "    neuron.activate(input_values)\n",
        "    neuron.print_output()"
      ]
    },
    {
      "cell_type": "markdown",
      "metadata": {
        "id": "3nJYOPam5-56"
      },
      "source": [
        "\n",
        "\n",
        "---\n",
        "\n"
      ]
    },
    {
      "cell_type": "code",
      "execution_count": 97,
      "metadata": {
        "id": "DTErAj_q1X52"
      },
      "outputs": [],
      "source": [
        "num_neurons_layer2 = 2\n",
        "\n",
        "# Create neurons for the second hidden layer\n",
        "neurons_HidLayer2 = create_neurons(num_neurons_layer2, input_size)"
      ]
    },
    {
      "cell_type": "code",
      "execution_count": 98,
      "metadata": {
        "id": "NQbq6CfD60xv"
      },
      "outputs": [],
      "source": [
        "# Create the output neuron\n",
        "output_Neuron = Neuron(num_neurons_layer2)"
      ]
    },
    {
      "cell_type": "code",
      "execution_count": 121,
      "metadata": {
        "id": "8ok_pg-Ry-6u"
      },
      "outputs": [],
      "source": [
        "class Graph:\n",
        "    def __init__(self):\n",
        "        self.graph = {}\n",
        "\n",
        "    def add_edge(self, source, destination):\n",
        "        if source not in self.graph:\n",
        "            self.graph[source] = []\n",
        "        else:\n",
        "            self.graph[source].append(destination)\n",
        "\n",
        "    def print_graph(self):\n",
        "        for source, destinations in self.graph.items():\n",
        "            print(f\"{source} --> {destinations}\")"
      ]
    },
    {
      "cell_type": "code",
      "execution_count": 122,
      "metadata": {
        "id": "ZASYFWk08OqE"
      },
      "outputs": [],
      "source": [
        "myG = Graph()"
      ]
    },
    {
      "cell_type": "code",
      "execution_count": 128,
      "metadata": {
        "id": "C2DIwGcQ8R2z"
      },
      "outputs": [],
      "source": [
        "# for neuron in neurons_HidLayer1:\n",
        "#     myG.add_edge(input_values, neuron)\n",
        "# ---------------------------------------------------------------------------\n",
        "# TypeError                                 Traceback (most recent call last)\n",
        "# <ipython-input-127-39eaf16cd19e> in <cell line: 1>()\n",
        "#       1 for neuron in neurons_HidLayer1:\n",
        "# ----> 2     myG.add_edge(input_values, neuron)\n",
        "\n",
        "# <ipython-input-121-d6c92d1fde42> in add_edge(self, source, destination)\n",
        "#       4\n",
        "#       5     def add_edge(self, source, destination):\n",
        "# ----> 6         if source not in self.graph:\n",
        "#       7             self.graph[source] = []\n",
        "#       8         else:\n",
        "\n",
        "# TypeError: unhashable type: 'list'"
      ]
    },
    {
      "cell_type": "code",
      "execution_count": 130,
      "metadata": {
        "id": "zG-qYsXu-e0e"
      },
      "outputs": [],
      "source": [
        "# Add edges from input values to neurons in the first hidden layer\n",
        "for neuron in neurons_HidLayer1:\n",
        "    myG.add_edge(tuple(input_values), neuron)"
      ]
    },
    {
      "cell_type": "code",
      "execution_count": 131,
      "metadata": {
        "id": "P0iHR3eD8Rw7"
      },
      "outputs": [],
      "source": [
        "# Add edges from neurons in the first hidden layer to neurons in the second hidden layer\n",
        "for neuron in neurons_HidLayer2:\n",
        "    myG.add_edge(tuple(neurons_HidLayer1), neuron)"
      ]
    },
    {
      "cell_type": "code",
      "execution_count": 132,
      "metadata": {
        "id": "-3dhp-lm8RrK"
      },
      "outputs": [],
      "source": [
        "# Add edge from neurons in the second hidden layer to the output neuron\n",
        "myG.add_edge(tuple(neurons_HidLayer2), output_Neuron)"
      ]
    },
    {
      "cell_type": "code",
      "execution_count": 133,
      "metadata": {
        "colab": {
          "base_uri": "https://localhost:8080/"
        },
        "id": "fnWM7UkZ60oL",
        "outputId": "bdec0a6d-b97b-4af3-f9ef-050740ce1f02"
      },
      "outputs": [
        {
          "name": "stdout",
          "output_type": "stream",
          "text": [
            "(5, 3, 6, 4, 9) --> [<__main__.Neuron object at 0x7da5fce1be50>, <__main__.Neuron object at 0x7da5fce18df0>, <__main__.Neuron object at 0x7da5fce1a5c0>, <__main__.Neuron object at 0x7da5fce19630>, <__main__.Neuron object at 0x7da5fce1b400>, <__main__.Neuron object at 0x7da5fce1be50>, <__main__.Neuron object at 0x7da5fce18df0>, <__main__.Neuron object at 0x7da5fce1a5c0>, <__main__.Neuron object at 0x7da5fce19630>]\n",
            "(<__main__.Neuron object at 0x7da5fce1b400>, <__main__.Neuron object at 0x7da5fce1be50>, <__main__.Neuron object at 0x7da5fce18df0>, <__main__.Neuron object at 0x7da5fce1a5c0>, <__main__.Neuron object at 0x7da5fce19630>) --> [<__main__.Neuron object at 0x7da5fce1ac20>, <__main__.Neuron object at 0x7da5fce1a080>, <__main__.Neuron object at 0x7da5fce1ac20>]\n",
            "(<__main__.Neuron object at 0x7da5fce1a080>, <__main__.Neuron object at 0x7da5fce1ac20>) --> [<__main__.Neuron object at 0x7da5fce1b2b0>]\n"
          ]
        }
      ],
      "source": [
        "myG.print_graph()\n",
        "# WHY IS LIFE?"
      ]
    },
    {
      "cell_type": "code",
      "execution_count": null,
      "metadata": {
        "id": "YA97aPpABoKs"
      },
      "outputs": [],
      "source": []
    },
    {
      "cell_type": "code",
      "execution_count": null,
      "metadata": {
        "id": "jiubOnDn98PW"
      },
      "outputs": [],
      "source": []
    },
    {
      "cell_type": "code",
      "execution_count": null,
      "metadata": {
        "id": "MyPec4iL9Ekd"
      },
      "outputs": [],
      "source": []
    }
  ],
  "metadata": {
    "colab": {
      "provenance": []
    },
    "kernelspec": {
      "display_name": "Python 3",
      "name": "python3"
    },
    "language_info": {
      "name": "python"
    }
  },
  "nbformat": 4,
  "nbformat_minor": 0
}
