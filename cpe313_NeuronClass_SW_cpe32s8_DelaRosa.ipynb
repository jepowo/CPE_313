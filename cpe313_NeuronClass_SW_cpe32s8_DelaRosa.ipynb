{
  "nbformat": 4,
  "nbformat_minor": 0,
  "metadata": {
    "colab": {
      "provenance": []
    },
    "kernelspec": {
      "name": "python3",
      "display_name": "Python 3"
    },
    "language_info": {
      "name": "python"
    }
  },
  "cells": [
    {
      "cell_type": "code",
      "execution_count": 78,
      "metadata": {
        "id": "00sOpriYKqfi"
      },
      "outputs": [],
      "source": [
        "class Neuron:\n",
        "    def __init__(self, x_inputs, weights):\n",
        "        self.x_inputs = x_inputs\n",
        "        self.weights = weights\n",
        "        self.weighted_ins = []\n",
        "        self.total = None\n",
        "        self.acti = None\n",
        "\n",
        "    def adder(self):\n",
        "        for i in range(0, len(self.x_inputs)):\n",
        "            self.weighted_ins.append(self.x_inputs[i]*self.weights[i])\n",
        "        self.total = sum(self.weighted_ins)\n",
        "        return self.total\n",
        "\n",
        "    def relu_act(self, acti=0):\n",
        "        self.acti = acti\n",
        "        if self.total > self.acti:\n",
        "            return self.total\n",
        "        else:\n",
        "            return 0"
      ]
    },
    {
      "cell_type": "code",
      "source": [
        "import random"
      ],
      "metadata": {
        "id": "MWipfROrYmj-"
      },
      "execution_count": 83,
      "outputs": []
    },
    {
      "cell_type": "code",
      "source": [
        "def gen_Random_Vals(list_len, low, high):\n",
        "    rand_list = []\n",
        "    for i in range(0, list_len):\n",
        "        n = random.randint(low,high)\n",
        "        rand_list.append(n)\n",
        "    return rand_list"
      ],
      "metadata": {
        "id": "PAj_cR-gZBDu"
      },
      "execution_count": 87,
      "outputs": []
    },
    {
      "cell_type": "code",
      "source": [
        "list_len = 5\n",
        "r_xin = []\n",
        "r_w = []\n",
        "\n",
        "r_xin = gen_Random_Vals(list_len, -10, 10)\n",
        "r_w = gen_Random_Vals(list_len, -1, 1)\n",
        "\n",
        "myList = Neuron(r_xin,r_w)"
      ],
      "metadata": {
        "id": "xn5fqvwpO1U6"
      },
      "execution_count": 122,
      "outputs": []
    },
    {
      "cell_type": "code",
      "source": [
        "myList.x_inputs"
      ],
      "metadata": {
        "colab": {
          "base_uri": "https://localhost:8080/",
          "height": 0
        },
        "id": "OwC0DNCgTPsQ",
        "outputId": "41491919-da41-479b-e8af-8c59338a0459"
      },
      "execution_count": 123,
      "outputs": [
        {
          "output_type": "execute_result",
          "data": {
            "text/plain": [
              "[6, -4, 4, -6, 6]"
            ]
          },
          "metadata": {},
          "execution_count": 123
        }
      ]
    },
    {
      "cell_type": "code",
      "source": [
        "myList.weights"
      ],
      "metadata": {
        "colab": {
          "base_uri": "https://localhost:8080/",
          "height": 0
        },
        "id": "F8tfYv5rTUT_",
        "outputId": "8446c0ac-6c0b-420b-e820-04f05882b15e"
      },
      "execution_count": 124,
      "outputs": [
        {
          "output_type": "execute_result",
          "data": {
            "text/plain": [
              "[-1, -1, 1, 0, 0]"
            ]
          },
          "metadata": {},
          "execution_count": 124
        }
      ]
    },
    {
      "cell_type": "code",
      "source": [
        "myList.adder()"
      ],
      "metadata": {
        "colab": {
          "base_uri": "https://localhost:8080/",
          "height": 0
        },
        "id": "uzEHOiOlPCDJ",
        "outputId": "9b8d57a0-af09-4ce8-b3a6-a58d6dd21ae2"
      },
      "execution_count": 125,
      "outputs": [
        {
          "output_type": "execute_result",
          "data": {
            "text/plain": [
              "2"
            ]
          },
          "metadata": {},
          "execution_count": 125
        }
      ]
    },
    {
      "cell_type": "code",
      "source": [
        "myList.weighted_ins"
      ],
      "metadata": {
        "colab": {
          "base_uri": "https://localhost:8080/",
          "height": 0
        },
        "id": "Bp76rrYfTWSw",
        "outputId": "6b4bbb27-e249-427c-f599-065e0ff67218"
      },
      "execution_count": 126,
      "outputs": [
        {
          "output_type": "execute_result",
          "data": {
            "text/plain": [
              "[-6, 4, 4, 0, 0]"
            ]
          },
          "metadata": {},
          "execution_count": 126
        }
      ]
    },
    {
      "cell_type": "code",
      "source": [
        "myList.relu_act()"
      ],
      "metadata": {
        "colab": {
          "base_uri": "https://localhost:8080/",
          "height": 0
        },
        "id": "ZFkihKQWTcwg",
        "outputId": "3d906e10-70dd-4579-f364-085425459075"
      },
      "execution_count": 127,
      "outputs": [
        {
          "output_type": "execute_result",
          "data": {
            "text/plain": [
              "2"
            ]
          },
          "metadata": {},
          "execution_count": 127
        }
      ]
    },
    {
      "cell_type": "code",
      "source": [],
      "metadata": {
        "id": "husPWRDfPF1a"
      },
      "execution_count": null,
      "outputs": []
    }
  ]
}