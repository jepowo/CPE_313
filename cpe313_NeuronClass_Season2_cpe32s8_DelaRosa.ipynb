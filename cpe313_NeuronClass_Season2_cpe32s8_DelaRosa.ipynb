{
  "nbformat": 4,
  "nbformat_minor": 0,
  "metadata": {
    "colab": {
      "provenance": [],
      "authorship_tag": "ABX9TyOvMjqw8FOaL7Zjsoa3+qoe",
      "include_colab_link": true
    },
    "kernelspec": {
      "name": "python3",
      "display_name": "Python 3"
    },
    "language_info": {
      "name": "python"
    }
  },
  "cells": [
    {
      "cell_type": "markdown",
      "metadata": {
        "id": "view-in-github",
        "colab_type": "text"
      },
      "source": [
        "<a href=\"https://colab.research.google.com/github/jepowo/CPE_313/blob/main/cpe313_NeuronClass_Season2_cpe32s8_DelaRosa.ipynb\" target=\"_parent\"><img src=\"https://colab.research.google.com/assets/colab-badge.svg\" alt=\"Open In Colab\"/></a>"
      ]
    },
    {
      "cell_type": "code",
      "execution_count": 111,
      "metadata": {
        "id": "00sOpriYKqfi"
      },
      "outputs": [],
      "source": [
        "class Neuron:\n",
        "    def __init__(self, x_inputs, weights):\n",
        "        self.x_inputs = x_inputs\n",
        "        self.weights = weights\n",
        "        self.weighted_ins = []\n",
        "\n",
        "        self.output = 0\n",
        "\n",
        "    def adder(self):\n",
        "        for x_input, weight in zip(self.x_inputs, self.weights):\n",
        "            self.weighted_ins.append(x_input*weight)\n",
        "\n",
        "        self.output = sum(self.weighted_ins)\n",
        "        return self.output\n",
        "\n",
        "    def relu_act(self):\n",
        "        if self.output > 0:\n",
        "            return self.output\n",
        "        else:\n",
        "            self.output = 0\n",
        "            return 0\n",
        "\n",
        "    def activate_Neuron(self):\n",
        "        self.adder()\n",
        "        self.relu_act()\n",
        "\n",
        "    # def print_proc(self, test_num):\n",
        "    #     print(f\"Neuron: \\\n",
        "    #             \\t Inputs: {self.x_inputs} \\\n",
        "    #             \\t Weights: {self.weights} \\\n",
        "    #             \")"
      ]
    },
    {
      "cell_type": "code",
      "source": [
        "from random import randint as randint\n",
        "\n",
        "def generate_Rand_Vals(input_len, low, high):\n",
        "    rand_list = []\n",
        "    for i in range(0, input_len):\n",
        "        n = randint(low,high)\n",
        "        rand_list.append(n)\n",
        "    return rand_list"
      ],
      "metadata": {
        "id": "PAj_cR-gZBDu"
      },
      "execution_count": 82,
      "outputs": []
    },
    {
      "cell_type": "code",
      "source": [
        "input_list = []\n",
        "weight_list = []\n",
        "\n",
        "input_len = 5\n",
        "low = 1\n",
        "high = 10\n",
        "\n",
        "input_list = generate_Rand_Vals(input_len , low, high)\n",
        "weight_list = generate_Rand_Vals(input_len, low, high)\n",
        "\n",
        "print(f\" \\\n",
        "Inputs: {input_list} \\n \\\n",
        "Weights: {weight_list} \\\n",
        "\")"
      ],
      "metadata": {
        "id": "xn5fqvwpO1U6",
        "colab": {
          "base_uri": "https://localhost:8080/"
        },
        "outputId": "55c5323b-b351-4044-f60c-a62a710402f2"
      },
      "execution_count": 83,
      "outputs": [
        {
          "output_type": "stream",
          "name": "stdout",
          "text": [
            " Inputs: [9, 5, 9, 5, 3] \n",
            " Weights: [6, 5, 1, 9, 3] \n"
          ]
        }
      ]
    },
    {
      "cell_type": "code",
      "source": [
        "neur1 = Neuron(input_list, weight_list)"
      ],
      "metadata": {
        "id": "vEWjq3ttRvx8"
      },
      "execution_count": 114,
      "outputs": []
    },
    {
      "cell_type": "code",
      "source": [
        "neur1.x_inputs"
      ],
      "metadata": {
        "colab": {
          "base_uri": "https://localhost:8080/"
        },
        "id": "OwC0DNCgTPsQ",
        "outputId": "5d9159a9-229f-4b01-9f53-58089fe15f94"
      },
      "execution_count": 115,
      "outputs": [
        {
          "output_type": "execute_result",
          "data": {
            "text/plain": [
              "[9, 5, 9, 5, 3]"
            ]
          },
          "metadata": {},
          "execution_count": 115
        }
      ]
    },
    {
      "cell_type": "code",
      "source": [
        "neur1.weights"
      ],
      "metadata": {
        "colab": {
          "base_uri": "https://localhost:8080/"
        },
        "id": "F8tfYv5rTUT_",
        "outputId": "ec1f5135-186e-49e4-d1f8-1ea6d0109632"
      },
      "execution_count": 116,
      "outputs": [
        {
          "output_type": "execute_result",
          "data": {
            "text/plain": [
              "[6, 5, 1, 9, 3]"
            ]
          },
          "metadata": {},
          "execution_count": 116
        }
      ]
    },
    {
      "cell_type": "code",
      "source": [
        "neur1.adder()"
      ],
      "metadata": {
        "colab": {
          "base_uri": "https://localhost:8080/"
        },
        "id": "uzEHOiOlPCDJ",
        "outputId": "41f2a52c-1b24-46a5-d543-26e729d4b885"
      },
      "execution_count": 117,
      "outputs": [
        {
          "output_type": "execute_result",
          "data": {
            "text/plain": [
              "142"
            ]
          },
          "metadata": {},
          "execution_count": 117
        }
      ]
    },
    {
      "cell_type": "code",
      "source": [
        "neur1.weighted_ins"
      ],
      "metadata": {
        "colab": {
          "base_uri": "https://localhost:8080/"
        },
        "id": "Bp76rrYfTWSw",
        "outputId": "b8c177a1-907a-4218-fa06-ec311f759209"
      },
      "execution_count": 118,
      "outputs": [
        {
          "output_type": "execute_result",
          "data": {
            "text/plain": [
              "[54, 25, 9, 45, 9]"
            ]
          },
          "metadata": {},
          "execution_count": 118
        }
      ]
    },
    {
      "cell_type": "code",
      "source": [
        "neur1.relu_act()"
      ],
      "metadata": {
        "colab": {
          "base_uri": "https://localhost:8080/"
        },
        "id": "ZFkihKQWTcwg",
        "outputId": "94540940-fd1e-402c-dcb4-6dcf0cfbdabd"
      },
      "execution_count": 119,
      "outputs": [
        {
          "output_type": "execute_result",
          "data": {
            "text/plain": [
              "142"
            ]
          },
          "metadata": {},
          "execution_count": 119
        }
      ]
    },
    {
      "cell_type": "code",
      "source": [
        "neur2 = Neuron(input_list, weight_list)\n",
        "neur2.activate_Neuron()\n",
        "\n",
        "neur3 = Neuron(input_list, weight_list)\n",
        "neur3.activate_Neuron()\n",
        "\n",
        "neur4 = Neuron(input_list, weight_list)\n",
        "neur4.activate_Neuron()\n",
        "\n",
        "neur5 = Neuron(input_list, weight_list)\n",
        "neur5.activate_Neuron()"
      ],
      "metadata": {
        "id": "5TwY8j-OTvhH"
      },
      "execution_count": 122,
      "outputs": []
    },
    {
      "cell_type": "code",
      "source": [],
      "metadata": {
        "id": "c28FRE_thoIy"
      },
      "execution_count": 56,
      "outputs": []
    },
    {
      "cell_type": "markdown",
      "source": [
        "\n",
        "\n",
        "---\n",
        "\n"
      ],
      "metadata": {
        "id": "QxKFd_pfTudY"
      }
    },
    {
      "cell_type": "code",
      "source": [
        "neurResults = [neur1.output, neur2.output, neur3.output, neur4.output, neur5.output]\n",
        "neurResults"
      ],
      "metadata": {
        "colab": {
          "base_uri": "https://localhost:8080/"
        },
        "id": "-cHUrgWxbIDl",
        "outputId": "1411cc7a-a1bf-473f-e8f7-d752d189ddf9"
      },
      "execution_count": 125,
      "outputs": [
        {
          "output_type": "execute_result",
          "data": {
            "text/plain": [
              "[142, 142, 142, 142, 142]"
            ]
          },
          "metadata": {},
          "execution_count": 125
        }
      ]
    },
    {
      "cell_type": "code",
      "source": [
        "weights2 = list(generate_Rand_Vals(input_len, low, high))\n",
        "\n",
        "print(f\"2nd Weights: {weights2}\")"
      ],
      "metadata": {
        "colab": {
          "base_uri": "https://localhost:8080/"
        },
        "id": "j9v-66HFZM5c",
        "outputId": "b9b37565-1220-43cd-9d9d-606d528ca0b9"
      },
      "execution_count": 99,
      "outputs": [
        {
          "output_type": "stream",
          "name": "stdout",
          "text": [
            "2nd Weights: [9, 10, 6, 3, 1]\n"
          ]
        }
      ]
    },
    {
      "cell_type": "code",
      "source": [
        "output_Neuron = Neuron(neurResults, weights2)\n",
        "output_Neuron.activate_Neuron()"
      ],
      "metadata": {
        "id": "9fozB8lhYJx-"
      },
      "execution_count": 126,
      "outputs": []
    },
    {
      "cell_type": "code",
      "source": [
        "output_Neuron.output"
      ],
      "metadata": {
        "colab": {
          "base_uri": "https://localhost:8080/"
        },
        "id": "ZfKbv-FKfGEM",
        "outputId": "2f81a40d-0a2a-4193-83f0-4dcfbf9eb3c0"
      },
      "execution_count": 128,
      "outputs": [
        {
          "output_type": "execute_result",
          "data": {
            "text/plain": [
              "4118"
            ]
          },
          "metadata": {},
          "execution_count": 128
        }
      ]
    },
    {
      "cell_type": "code",
      "source": [
        "class Graph:\n",
        "    def __init__(self):\n",
        "        self.graph = dict()\n",
        "\n",
        "    def addEdge(self, node1, node2, cost):\n",
        "        if node1 not in self.graph:\n",
        "            self.graph[node1] = []\n",
        "        if node2 not in self.graph:\n",
        "            self.graph[node2] = []\n",
        "\n",
        "        self.graph[node1].append((node2, int(cost)))\n",
        "\n",
        "    def printGraph(self):\n",
        "        for source, destination in self.graph.items():\n",
        "            print(f\"{source}-->{destination}\")\n"
      ],
      "metadata": {
        "id": "Iup3gSJwMks6"
      },
      "execution_count": 78,
      "outputs": []
    },
    {
      "cell_type": "code",
      "source": [
        "myG = Graph()\n",
        "\n",
        "myG.addEdge(neur1.results)\n"
      ],
      "metadata": {
        "id": "k35CAeCPUiMf"
      },
      "execution_count": null,
      "outputs": []
    },
    {
      "cell_type": "code",
      "source": [
        "myG.printGraph()"
      ],
      "metadata": {
        "id": "c777tcPqW3nX"
      },
      "execution_count": null,
      "outputs": []
    }
  ]
}